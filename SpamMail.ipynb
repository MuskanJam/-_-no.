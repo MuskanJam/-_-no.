{
  "nbformat": 4,
  "nbformat_minor": 0,
  "metadata": {
    "colab": {
      "provenance": [],
      "authorship_tag": "ABX9TyMCFDdpmBoWL+No020ZlnT/",
      "include_colab_link": true
    },
    "kernelspec": {
      "name": "python3",
      "display_name": "Python 3"
    },
    "language_info": {
      "name": "python"
    }
  },
  "cells": [
    {
      "cell_type": "markdown",
      "metadata": {
        "id": "view-in-github",
        "colab_type": "text"
      },
      "source": [
        "<a href=\"https://colab.research.google.com/github/MuskanJam/OIBSIP_TASKNO./blob/main/SpamMail.ipynb\" target=\"_parent\"><img src=\"https://colab.research.google.com/assets/colab-badge.svg\" alt=\"Open In Colab\"/></a>"
      ]
    },
    {
      "cell_type": "code",
      "source": [
        "import numpy as np\n",
        "import pandas as pd\n",
        "import matplotlib.pyplot as plt\n",
        "import seaborn as sns\n",
        "\n",
        "data = pd.read_csv('/content/spam.csv')"
      ],
      "metadata": {
        "id": "hcDD7gIg9-uu"
      },
      "execution_count": null,
      "outputs": []
    },
    {
      "cell_type": "code",
      "source": [
        "data.head()"
      ],
      "metadata": {
        "id": "lySdxf7hAYkD"
      },
      "execution_count": null,
      "outputs": []
    },
    {
      "cell_type": "code",
      "source": [
        "data.Category.unique()"
      ],
      "metadata": {
        "id": "WkTPTQs6AqWA"
      },
      "execution_count": null,
      "outputs": []
    },
    {
      "cell_type": "code",
      "source": [
        "data['spam']=data['Category'].apply(lambda x: 1 if x=='spam' else 0)"
      ],
      "metadata": {
        "id": "9pwXCIoNB9Zt"
      },
      "execution_count": null,
      "outputs": []
    },
    {
      "cell_type": "code",
      "source": [
        "data.head()"
      ],
      "metadata": {
        "id": "vjEcWjn5IArI"
      },
      "execution_count": null,
      "outputs": []
    },
    {
      "cell_type": "code",
      "source": [
        "from sklearn.model_selection import train_test_split\n",
        "x_train,x_test,y_train,y_test=train_test_split(data.Message,data.spam,test_size=0.2,random_state=42)"
      ],
      "metadata": {
        "id": "w4cCKu5yIIs0"
      },
      "execution_count": null,
      "outputs": []
    },
    {
      "cell_type": "code",
      "source": [
        "len(x_train)"
      ],
      "metadata": {
        "id": "WNmLM39zIaBA"
      },
      "execution_count": null,
      "outputs": []
    },
    {
      "cell_type": "code",
      "source": [
        "len(x_test)"
      ],
      "metadata": {
        "id": "SeEsXPRoIdSc"
      },
      "execution_count": null,
      "outputs": []
    },
    {
      "cell_type": "code",
      "source": [
        "from sklearn.feature_extraction.text import CountVectorizer\n",
        "v=CountVectorizer()\n",
        "cv_messages = v.fit_transform(x_train.values)\n",
        "cv_messages.toarray()[0:5]"
      ],
      "metadata": {
        "id": "7TvdXNFDIgZ6"
      },
      "execution_count": null,
      "outputs": []
    },
    {
      "cell_type": "code",
      "source": [
        "from sklearn.naive_bayes import MultinomialNB\n",
        "model=MultinomialNB()\n",
        "model.fit(cv_messages,y_train)"
      ],
      "metadata": {
        "id": "ELx_IyUYIpHO"
      },
      "execution_count": null,
      "outputs": []
    },
    {
      "cell_type": "code",
      "source": [
        "email = [\n",
        "         'Upto 30% discount on parking, exclusive offer just for yoy. Dont miss thi reward!',\n",
        "         'Ok lar...joking wif u oni...'\n",
        "]\n",
        "email_count= v.transform(email)\n",
        "model.predict(email_count)"
      ],
      "metadata": {
        "id": "98tl6QjhIwzM"
      },
      "execution_count": null,
      "outputs": []
    },
    {
      "cell_type": "code",
      "source": [
        "x_test_count=v.transform(x_test)\n",
        "model.score(x_test_count,y_test)"
      ],
      "metadata": {
        "id": "2p8fzOmnI0v7"
      },
      "execution_count": null,
      "outputs": []
    },
    {
      "cell_type": "code",
      "source": [
        "from sklearn.pipeline import Pipeline\n",
        "clf = Pipeline([\n",
        "      ('vectorizer', CountVectorizer()),\n",
        "      ('nb', MultinomialNB())\n",
        "]\n",
        ")\n",
        "clf.fit(x_train,y_train)"
      ],
      "metadata": {
        "id": "huB0ytHPI4cA"
      },
      "execution_count": null,
      "outputs": []
    },
    {
      "cell_type": "code",
      "source": [
        "email = [\n",
        "        'Upto 30% discount on parking, exclusive offer just for yoy. Dont miss thi reward!',\n",
        "         'Ok lar...joking wif u oni...'\n",
        "]\n",
        "clf.predict(email)"
      ],
      "metadata": {
        "id": "FmtxfigPI9rp"
      },
      "execution_count": null,
      "outputs": []
    },
    {
      "cell_type": "code",
      "source": [
        "clf.score(x_test,y_test)"
      ],
      "metadata": {
        "id": "xi3SUe6BJBc6"
      },
      "execution_count": null,
      "outputs": []
    },
    {
      "cell_type": "code",
      "source": [
        "from sklearn.metrics import accuracy_score, classification_report\n",
        "\n",
        "y_pred = clf.predict(x_test)\n",
        "accuracy = accuracy_score(y_test, y_pred)\n",
        "report = classification_report(y_test, y_pred)\n",
        "\n",
        "print(f\"Accuracy: {accuracy:.2f}\")\n",
        "print(report)"
      ],
      "metadata": {
        "id": "AF9Bm2itCA3W"
      },
      "execution_count": null,
      "outputs": []
    },
    {
      "cell_type": "code",
      "source": [
        "import joblib\n",
        "joblib.dump(clf,'spam_model.pkl')"
      ],
      "metadata": {
        "id": "bNCjT_dUJbtw"
      },
      "execution_count": null,
      "outputs": []
    }
  ]
}