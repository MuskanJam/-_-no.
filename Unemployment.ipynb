{
  "nbformat": 4,
  "nbformat_minor": 0,
  "metadata": {
    "colab": {
      "provenance": [],
      "authorship_tag": "ABX9TyOZIAeXN7XehakXjcByzS+T",
      "include_colab_link": true
    },
    "kernelspec": {
      "name": "python3",
      "display_name": "Python 3"
    },
    "language_info": {
      "name": "python"
    }
  },
  "cells": [
    {
      "cell_type": "markdown",
      "metadata": {
        "id": "view-in-github",
        "colab_type": "text"
      },
      "source": [
        "<a href=\"https://colab.research.google.com/github/MuskanJam/OIBSIP_TASKNO./blob/main/Unemployment.ipynb\" target=\"_parent\"><img src=\"https://colab.research.google.com/assets/colab-badge.svg\" alt=\"Open In Colab\"/></a>"
      ]
    },
    {
      "cell_type": "code",
      "source": [
        "import pandas as pd\n",
        "\n",
        "data = pd.read_csv('/content/Unemployment in India.csv')"
      ],
      "metadata": {
        "id": "o6-txvcFwmdS"
      },
      "execution_count": null,
      "outputs": []
    },
    {
      "cell_type": "code",
      "source": [
        "import pandas as pd\n",
        "\n",
        "data = {\n",
        "    'Date': [' 31-05-2019', ' 30-06-2019', ' 31-05-2020', '31-03-2020', ' 30-06-2020' , ' 31-05-2019' , '31-01-2020' , '31-01-2020'],\n",
        "    'UnemploymentRate': [3.65, 5.08, 47.26, 7.31, 21.14, 2.91, 5.35, 27.19],\n",
        "}\n",
        "\n",
        "# Create a DataFrame\n",
        "df = pd.DataFrame(data)"
      ],
      "metadata": {
        "id": "A2t9kSpcxgBt"
      },
      "execution_count": null,
      "outputs": []
    },
    {
      "cell_type": "code",
      "source": [
        "# Convert 'Date' column to datetime\n",
        "df['Date'] = pd.to_datetime(df['Date'])"
      ],
      "metadata": {
        "colab": {
          "base_uri": "https://localhost:8080/"
        },
        "id": "rIRhLHLAxj4c",
        "outputId": "3f56d55b-969b-4dcb-b387-b970d536104b"
      },
      "execution_count": null,
      "outputs": [
        {
          "output_type": "stream",
          "name": "stderr",
          "text": [
            "<ipython-input-3-5a7ccd4aa69f>:2: UserWarning: Parsing dates in DD/MM/YYYY format when dayfirst=False (the default) was specified. This may lead to inconsistently parsed dates! Specify a format to ensure consistent parsing.\n",
            "  df['Date'] = pd.to_datetime(df['Date'])\n"
          ]
        }
      ]
    },
    {
      "cell_type": "code",
      "source": [
        "import matplotlib.pyplot as plt\n",
        "\n",
        "plt.figure(figsize=(10, 6))\n",
        "plt.plot(df['Date'], df['UnemploymentRate'], marker='o', linestyle='-', color='b')\n",
        "plt.title('Unemployment Rate Over Time')\n",
        "plt.xlabel('Date')\n",
        "plt.ylabel('Unemployment Rate (%)')\n",
        "plt.grid(True)\n",
        "plt.show()"
      ],
      "metadata": {
        "id": "Jmin_h8-xq-k"
      },
      "execution_count": null,
      "outputs": []
    },
    {
      "cell_type": "code",
      "source": [
        "average_unemployment_rate = df['UnemploymentRate'].mean()\n",
        "std_deviation = df['UnemploymentRate'].std()\n",
        "\n",
        "print(f'Average Unemployment Rate: {average_unemployment_rate:.2f}%')\n",
        "print(f'Standard Deviation: {std_deviation:.2f}')"
      ],
      "metadata": {
        "colab": {
          "base_uri": "https://localhost:8080/"
        },
        "id": "4FxnB4JHyU5O",
        "outputId": "b335d65c-b7d1-48ea-e09b-b435c54d4fbf"
      },
      "execution_count": null,
      "outputs": [
        {
          "output_type": "stream",
          "name": "stdout",
          "text": [
            "Average Unemployment Rate: 14.99%\n",
            "Standard Deviation: 15.82\n"
          ]
        }
      ]
    }
  ]
}